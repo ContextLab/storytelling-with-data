#number crunching
import numpy as np
import pandas as pd

#data visualization
import plotly
import plotly.express as px
import seaborn as sns
from matplotlib import pyplot as plt
from mpl_toolkits.mplot3d import Axes3D

# Provide code for downloading or importing your data here
access = pd.read_excel('https://github.com/ContextLab/storytelling-with-data/raw/master/assignments/assignment%204/data/Access%20to%20Health%20Services.xlsx')
heart = pd.read_excel('https://github.com/ContextLab/storytelling-with-data/raw/master/assignments/assignment%204/data/Heart%20Disease%20%26%20Stroke.xlsx')

access.head()
heart.head()

## stuff for making maps
# geojson file
geojson_file = 'https://raw.githubusercontent.com/ContextLab/storytelling-with-data/master/data-stories/demo/geojson-counties-fips.json'
from urllib.request import urlopen
import json
with urlopen(geojson_file) as response:
    counties = json.load(response)

# FIPS codes
fips_codes = pd.read_csv('https://github.com/ContextLab/storytelling-with-data/raw/master/data-stories/demo/state_and_county_fips_master.csv')

# drop rows where "state" is NaN
fips_codes.dropna(subset=['state'], axis=0, inplace=True)

# remove " County" from "name" column
fips_codes['name'] = fips_codes['name'].apply(lambda x: x[:-len(' County')])

fips_codes.head()

# add FIPS code to dataframe
def add_fips(df, limit_states=('VT', 'NH'), fips_name='fips'):
  fips = fips_codes.query(f'state in {limit_states}')

  def fips_lookup(county):
    try:
      return str(fips.query(f'name == "{county}"')['fips'].values[0])
    except IndexError:
      return np.nan
  
  df[fips_name] = df['Geography Name'].apply(fips_lookup)
  return df

# add fips codes to VT-DoH data
add_fips(access)
add_fips(heart)

access.head()

# list all indicators available in the DoH health access dataset
np.unique(access['Indicator'])

# list all years available in the dataset
np.unique([str(x) for x in access['Year(s)']])

# convert year ranges to average years

def str2year(s):
  s = str(s)
  if '-' in s:
    ind = s.find('-')
    return np.mean([int(s[:ind]), int(s[(ind + 1):])])
  elif ',' in s:
    return np.mean(eval('[' + s + ']'))
  else:
    return float(s)

access['year'] = access['Year(s)'].apply(str2year)

access.head()

# focus in on Percent of Vermonters with health insurance
insurance = access.query('Indicator == "Percent of Vermonters with health insurance"').copy()
insurance.sort_values(by='year', axis=0, inplace=True)

#drop all rows where indicator value is NaN
insurance.dropna(axis=0, subset=['Indicator Value', 'fips'], inplace=True)
insurance.head()

# create a choropleth map for "insurance" data, showing the percent of Vermonters with health insurance from 2003-2013
fig = px.choropleth(insurance, geojson=counties, locations='fips', color='Indicator Value',
                    color_continuous_scale='orrd', range_color=(89, 96), scope='usa',
                    labels={'Indicator Value': 'Insured (%)'},
                    animation_frame='year')

fig.update_geos(fitbounds="locations", visible=True)
fig.show()

# list all indicators available in the DoH heart dataset
np.unique(heart['Indicator'])

# list all indicators available in the DoH access dataset
np.unique(access['Indicator'])

# list all years available in the dataset
np.unique([str(x) for x in heart['Year(s)']])

# list all years available in the dataset
np.unique([str(x) for x in access['Year(s)']])

# convert year ranges to average years

def str2year(s):
  s = str(s)
  if '-' in s:
    ind = s.find('-')
    return np.mean([int(s[:ind]), int(s[(ind + 1):])])
  elif ',' in s:
    return np.mean(eval('[' + s + ']'))
  else:
    return float(s)

access['year'] = access['Year(s)'].apply(str2year)
heart['year'] = heart['Year(s)'].apply(str2year)

#focus in on Percent of Vermonters with health insurance
care = access.query('Indicator == "Percent of adults who cannot obtain care or delay care"').copy()
care.sort_values(by='year', axis=0, inplace=True)

#drop all rows where indicator value is NaN
care.dropna(axis=0, subset=['Indicator Value', 'fips'], inplace=True)
care

#focus in on Percent of Vermonters with health insurance
insurance = access.query('Indicator == "Percent of Vermonters with health insurance"').copy()
insurance.sort_values(by='year', axis=0, inplace=True)

#drop all rows where indicator value is NaN
insurance.dropna(axis=0, subset=['Indicator Value', 'fips'], inplace=True)
insurance.head()

# focus in on Number of Vermonters with heart disease death per 100,000
heart_disease = heart.query('Indicator == "Coronary heart disease death rate per 100,000"').copy()
heart_disease.sort_values(by='year', axis=0, inplace=True)

#drop all rows where indicator value is NaN
heart_disease.dropna(axis=0, subset=['Indicator Value', 'fips'], inplace=True)
heart_disease.head()

# focus in on Percent of Vermonters with hypertension
hypertension = heart.query('Indicator == "Percent of adults with hypertension"').copy()
hypertension.sort_values(by='year', axis=0, inplace=True)

#drop all rows where indicator value is NaN
hypertension.dropna(axis=0, subset=['Indicator Value', 'fips'], inplace=True)
hypertension.head()

# focus in on Percent of Vermonters with cholesterol check
checks = heart.query('Indicator == "Percent of adults with a cholesterol check in past 5 years"').copy()
checks.sort_values(by='year', axis=0, inplace=True)

#drop all rows where indicator value is NaN
checks.dropna(axis=0, subset=['Indicator Value', 'fips'], inplace=True)
checks

cholesterol_2016 = heart.query('year == 2016').query('Indicator == "Percent of adults with a cholesterol check in past 5 years"')

cholesterol_2016.query('`Geography Type` == "County"').groupby('Geography Name').mean().sort_values('Indicator Value')

## Percent of adults with a cholesterol check in past 5 years as of 2016



cholesterol = heart.query('`Geography Type` == "County" and Indicator == "Percent of adults with a cholesterol check in past 5 years"')

county_data = cholesterol.groupby('Geography Name')

by_year = county_data.apply(lambda x: x.groupby('year').mean().T)

df_checks_all = pd.DataFrame(by_year.values, columns=by_year.columns, index=[c[0] for c in by_year.index.values])

df_checks_all

## Percent of adults with a cholesterol check in past 5 years from 2003 to 2016



cholesterol_2003 = heart.query('year == 2003').query('Indicator == "Percent of adults with a cholesterol check in past 5 years"')

cholesterol_2003.query('`Geography Type` == "County"').groupby('Geography Name').mean().sort_values('Indicator Value')

## Percent of adults with a cholesterol check in past 5 years as of 2003


# find the common years across the two datasets
common_years = set.intersection(set(np.unique(access['year'])),
                                set(np.unique(heart['year'])),
                                set(np.unique(heart.query('Indicator == "Percent of adults with a cholesterol check in past 5 years"')['year'])),
                                set(np.unique((heart.query('Indicator == "Coronary heart disease death rate per 100,000"')['year']))),
                                set(np.unique(heart.query('Indicator == "Percent of adults with hypertension"')['year'])),
                                set(np.unique(access.query('Indicator == "Primary Care Provider FTEs per 100,000  – Physicians (MD and DO) "')['year'])))
print(f'common years: {common_years}')

# look at 2014 (most recent common year)
access_2014 = access.query('year == 2014')
cholesterol_2014 = heart.query('year == 2014').query('Indicator == "Percent of adults with a cholesterol check in past 5 years"')
disease_2014 = heart.query('year == 2014').query('Indicator == "Coronary heart disease death rate per 100,000"')
hypertension_2014 = heart.query('year == 2014').query('Indicator == "Percent of adults with hypertension"')
pa_2014 = access.query('year == 2014').query('Indicator == "Primary Care Provider FTEs per 100,000  – Physician Assistants"')
insurance_2013 = access.query('year == 2013').query('Indicator == "Percent of Vermonters with health insurance"')
physicians_2014 = access.query('year == 2014').query('Indicator == "Primary Care Provider FTEs per 100,000  – Physicians (MD and DO) "')
care_2008 = access.query('year == 2008').query('Indicator == "Percent of adults who cannot obtain care or delay care"')
cholesterol_2012 = heart.query('year == 2012').query('Indicator == "Percent of adults with a cholesterol check in past 5 years"')
cholesterol_2007 = heart.query('year == 2007').query('Indicator == "Percent of adults with a cholesterol check in past 5 years"')

# organize data into a single DataFrame:
#  - index: county
#  - columns: arthritis and cholesterol "indicator values" from the selected indicators

df = pd.DataFrame(index=[c for c in np.unique(heart['Geography Name']) if c != 'Vermont'],
                  columns=['recent cholesterol check', 'insurance', 'heart disease death rate',
                           'adults with hypertension', 'physicians per 100,000', 'PAs per 100,000', 'access to care', '2012 check data',
                           '2007 check data'], dtype=float)


for c in [c for c in np.unique(heart['Geography Name']) if c != 'Vermont']:
  df.loc[c]['recent cholesterol check'] = float(cholesterol_2014.query(f'`Geography Name` == "{c}"')['Indicator Value'].values[0])
  df.loc[c]['insurance'] = float(insurance_2013.query(f'`Geography Name` == "{c}"')['Indicator Value'].values[0])
  df.loc[c]['heart disease death rate'] = float(disease_2014.query(f'`Geography Name` == "{c}"')['Indicator Value'].values[0])
  df.loc[c]['adults with hypertension'] = float(hypertension_2014.query(f'`Geography Name` == "{c}"')['Indicator Value'].values[0])
  df.loc[c]['physicians per 100,000'] = float(physicians_2014.query(f'`Geography Name` == "{c}"')['Indicator Value'].values[0])
  df.loc[c]['PAs per 100,000'] = float(pa_2014.query(f'`Geography Name` == "{c}"')['Indicator Value'].values[0])
  df.loc[c]['access to care'] = float(care_2008.query(f'`Geography Name` == "{c}"')['Indicator Value'].values[0])
  df.loc[c]['2012 check data'] = float(cholesterol_2012.query(f'`Geography Name` == "{c}"')['Indicator Value'].values[0])
  df.loc[c]['2007 check data'] = float(cholesterol_2007.query(f'`Geography Name` == "{c}"')['Indicator Value'].values[0])

df



## correlations
# now correlate insurance and cholesterol check:
print(f"Pearson's correlation = {df['insurance'].corr(df['recent cholesterol check']):0.4f}")

# now correlate hypertension and cholesterol check:
print(f"Pearson's correlation = {df['adults with hypertension'].corr(df['recent cholesterol check']):0.4f}")

# now correlate disease and cholesterol check 2014:
print(f"Pearson's correlation = {df['heart disease death rate'].corr(df['recent cholesterol check']):0.4f}")

# now correlate physicians and cholesterol check:
print(f"Pearson's correlation = {df['physicians per 100,000'].corr(df['recent cholesterol check']):0.4f}")

# now correlate physcians assistants and cholesterol check:
print(f"Pearson's correlation = {df['PAs per 100,000'].corr(df['recent cholesterol check']):0.4f}")

# now correlate access and cholesterol check:
print(f"Pearson's correlation = {df['access to care'].corr(df['recent cholesterol check']):0.4f}")

## higher percent of people without care, lower percentage getting cholesterol checks


## making graphs
# ["Percent of adults with a cholesterol check in past 5 years"]

cholesterol_indicators = ['Percent of adults with a cholesterol check in past 5 years']
cholesterol_mixed = heart.query(f'Indicator in {cholesterol_indicators}').copy()
cholesterol_mixed.sort_values(by='year', axis=0, inplace=True)

#drop all rows where indicator value is NaN
cholesterol_mixed.dropna(axis=0, subset=['Indicator Value', 'fips'], inplace=True)
cholesterol_mixed.head()

# create an  choropleth map for cholesterol checks
fig = px.choropleth(cholesterol_mixed, geojson=counties, locations='fips', color='Indicator Value',
                    color_continuous_scale='orrd', range_color=(70, 80), scope='usa',
                    labels={'Indicator Value': 'Cholesterol chec (%)', 'Indicator': 'Group'},
                    facet_col='Indicator', animation_frame='year')

fig.update_geos(fitbounds="locations", visible=True)
fig.show()

## selecting just Windsor county heart data

windsor_data = heart.query("`Geography Name` == 'Windsor'")
windsor_data

windsor_checks = windsor_data.query('Indicator == "Percent of adults with a cholesterol check in past 5 years"').copy()
windsor_checks.sort_values(by='Year(s)', axis=0, inplace=True)
windsor_checks

## table for Windsor County checks over time


orange_checks = orange_data.query('Indicator == "Percent of adults with a cholesterol check in past 5 years"').copy()
orange_checks.sort_values(by='Year(s)', axis=0, inplace=True)
orange_checks

## table for orange county cholesterol checks only


plt.plot(windsor_checks['year'], windsor_checks['Indicator Value'])
plt.plot(orange_checks['year'], orange_checks['Indicator Value'])
plt.legend(['windsor', 'orange'])
plt.xlabel("Years")
plt.ylabel("% of Cholesterol Checks")
plt.suptitle("% of Adults that Received Cholesterol \n Checks in Last 5 Years")

## comparing checks in Windsor vs. Orange over time


plt.plot(windsor_checks['year'], windsor_checks['Indicator Value'])
plt.legend(['windsor'])
plt.xlabel("Years")
plt.ylabel("% of Cholesterol Checks")
plt.suptitle("% of Adults that Received Cholesterol \n Checks in Last 5 Years")

## checks in Windsor over time


windsor_data = heart.query("`Geography Name` == 'Windsor'")

## heart disease
windsor_disease = windsor_data.query('Indicator == "Coronary heart disease death rate per 100,000"').copy()
windsor_disease.sort_values(by='Year(s)', axis=0, inplace=True)

## hypertension
windsor_hypertension = windsor_data.query('Indicator == "Percent of adults with hypertension"').copy()
windsor_hypertension.sort_values(by='Year(s)', axis=0, inplace=True)


orange_data = heart.query("`Geography Name` == 'Orange'")

## heart disease
orange_disease = orange_data.query('Indicator == "Coronary heart disease death rate per 100,000"').copy()
orange_disease.sort_values(by='Year(s)', axis=0, inplace=True)

## hypertension
orange_hypertension = orange_data.query('Indicator == "Percent of adults with hypertension"').copy()
orange_hypertension.sort_values(by='Year(s)', axis=0, inplace=True)


plt.plot(windsor_disease['year'], windsor_disease['Indicator Value'])
plt.plot(orange_disease['year'], orange_disease['Indicator Value'])
plt.legend(['windsor', 'orange'])
plt.xlabel("Years")
plt.ylabel("Death per 100,000")
plt.suptitle("Coronary Heart Disease Death")

## comparing heart disease death in Windsor vs. Orange over time


plt.plot(windsor_hypertension['year'], windsor_hypertension['Indicator Value'])
plt.plot(orange_hypertension['year'], orange_hypertension['Indicator Value'])
plt.legend(['windsor', 'orange'])
plt.xlabel("Years")
plt.ylabel("Percent")
plt.suptitle("Percent of adults with hypertension")

## comparing hypertension in Windsor vs. Orange over time
