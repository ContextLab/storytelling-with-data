{
  "cells": [
    {
      "cell_type": "markdown",
      "metadata": {
        "id": "view-in-github",
        "colab_type": "text"
      },
      "source": [
        "<a href=\"https://colab.research.google.com/github/ContextLab/storytelling-with-data/blob/master/slides/intro_to_python.ipynb\" target=\"_parent\"><img src=\"https://colab.research.google.com/assets/colab-badge.svg\" alt=\"Open In Colab\"/></a>"
      ]
    },
    {
      "cell_type": "markdown",
      "metadata": {
        "id": "gl-puFeq6DAO"
      },
      "source": [
        "# Overview\n",
        "\n",
        "This notebook provides a very high level overview of what it means to \"write a computer program,\" and some specific examples of how to write a program in Python.  If you are already familiar with Python and Jupyter notebooks, you might be interested in [this video](https://youtu.be/Gin8_AITmS0) summarizing some tips and tricks for writing good, clean, effective code.\n",
        "\n",
        "Note: this tutorial is intended to introduce you to the basics-- not to provide a complete, or even fully self-contained, overview of Python programming.  If this material is new to you, then after running through this notebook, I suggest that you work through a beginner Python tutorial like [this one](https://gitlab.erc.monash.edu.au/andrease/Python4Maths/tree/master/Intro-to-Python) .\n",
        "\n",
        "# What's a Jupyter notebook?\n",
        "For a more complete answer, check out [this video](https://youtu.be/CSkTJRNBTME).  The short answer is that a Jupyter notebook is an interactive tool that allows you to take notes, execute code, create figures, and easily share it all with other people.  Jupyter notebooks comprise a series of _cells_.  Each cell (looks like a rectangular block of text) in a notebook contains one of two basic categories of content:\n",
        "  1. **Markdown cells** (like the current cell) contain formatted text in the [Markdown text formatting language](https://www.markdowntutorial.com/).  You can use these cells kind of like the code underlying text you'd write in a word processor.  What you type is what eventually appears on the screen.  For the most part, text in Markdown cells gets \"rendered\" (i.e. drawn on the screen) just as you write it.  However, you can also specify various formatting tweaks, like creating _italicized_ or **bolded** text, etc.  [This tutorial](https://www.markdowntutorial.com/) provides a quick and gentle interactive introduction to Markdown.  You can create a new Markdown cell by pressing the \"+\" button in the toolbar and selecting \"Markdown\" from the dropdown list in the toolbar.\n",
        "  2. **Code cells** (like the next cell) contains computer code. A computer is like a fancy calculator; computer code is a set of instructions that tells the computer which things to do (and in which order).  You can create a new Code cell by pressing the \"+\" button in the toolbar and selecting \"Code\" from the dropdown list in the toolbar.\n",
        "  \n",
        "The text you type into a new notebook cell is a set of instructions that tell the notebook what to do when the cell is _run_ (i.e., transformed from a set of instructions into an executed set of actions).  To run a cell, hold the `shift` key and press `enter/return`.\n",
        "  - When you run a Markdown cell, the text is rendered with the formatting options you specify.  To see and/or edit the underlying code, simply double click on the rendered text.\n",
        "  - When you run a Code cell, the Python instructions you type in are run.  We'll explore what this means below."
      ]
    },
    {
      "cell_type": "markdown",
      "metadata": {
        "id": "KTs7pOIR6DAP"
      },
      "source": [
        "# Using Python like a calculator\n",
        "\n",
        "One way to think about Python is like a calculator.  For example, you can type in an equation, and when you \"run\" that line of code the answer is printed to the console window.  Play around with the examples below to explore."
      ]
    },
    {
      "cell_type": "code",
      "execution_count": null,
      "metadata": {
        "id": "rKsWVIaP6DAP",
        "outputId": "dc029e4a-0593-49aa-99eb-b8f928f8204b"
      },
      "outputs": [
        {
          "data": {
            "text/plain": [
              "2"
            ]
          },
          "execution_count": 5,
          "metadata": {},
          "output_type": "execute_result"
        }
      ],
      "source": [
        "1 + 1"
      ]
    },
    {
      "cell_type": "code",
      "execution_count": null,
      "metadata": {
        "id": "-hVe7f5h6DAQ",
        "outputId": "e2c614fa-8f94-477d-be88-55c94b52d10a"
      },
      "outputs": [
        {
          "data": {
            "text/plain": [
              "15"
            ]
          },
          "execution_count": 6,
          "metadata": {},
          "output_type": "execute_result"
        }
      ],
      "source": [
        "3 * (4 + 1)"
      ]
    },
    {
      "cell_type": "markdown",
      "metadata": {
        "id": "peanmazW6DAQ"
      },
      "source": [
        "## Weird stuff\n",
        "\n",
        "In its \"guts,\" Python represents all numbers in Base 2 (i.e. binary).  Occassionally representing Base 10 numbers in Base 2 can lead to seemingly strange behaviors.  One such example is shown in the next cell."
      ]
    },
    {
      "cell_type": "code",
      "execution_count": null,
      "metadata": {
        "id": "pyr7CpzI6DAQ",
        "outputId": "7a1cd0b8-a359-4e62-cc73-9e4dd95a0d46"
      },
      "outputs": [
        {
          "data": {
            "text/plain": [
              "-2.7755575615628914e-17"
            ]
          },
          "execution_count": 44,
          "metadata": {},
          "output_type": "execute_result"
        }
      ],
      "source": [
        "0.3 - 0.2 - 0.1"
      ]
    },
    {
      "cell_type": "markdown",
      "metadata": {
        "id": "rMv3M-fV6DAQ"
      },
      "source": [
        "# Variables\n",
        "A _variable_ is a named object-- i.e. a thing that Python knows has a particular value.  It's often useful to write code that incorporates named variables wherever possible (rather than hard-coding in specific numerical values).  This way of abstracting way the specific values from the set of operations you want to perform on those values allows you to use the same line of code to perform different functions.\n",
        "\n",
        "To define a variable, you use the _assignment_ operator, `=`.  The name of your variable goes on the left side of the assignment operator, and the value you want to assign to that variable goes on the right side.  Play around with the example below to see how it works.  For example, change the values of `x` and `y` and see how the answers change."
      ]
    },
    {
      "cell_type": "code",
      "execution_count": null,
      "metadata": {
        "id": "RKGluzBF6DAQ",
        "outputId": "705e5d54-56aa-476a-9b2f-77e7f5df1b37"
      },
      "outputs": [
        {
          "data": {
            "text/plain": [
              "7"
            ]
          },
          "execution_count": 7,
          "metadata": {},
          "output_type": "execute_result"
        }
      ],
      "source": [
        "x = 3\n",
        "y = 4\n",
        "x + y"
      ]
    },
    {
      "cell_type": "markdown",
      "metadata": {
        "id": "DJdA7Rwj6DAQ"
      },
      "source": [
        "# Operators\n",
        "\n",
        "In addition to the assignment operator (`=`), you have already been using several other operators in the code above:\n",
        "  - the addition operator (`+`)\n",
        "  - the multiplication operator (`*`)\n",
        "\n",
        "There are a number of other useful operators:\n",
        "  - the power operator (`**`) raises the value of the first thing to the power of the second thing\n",
        "  - the subtraction operator (`-`)\n",
        "  - the division operator (`/`)\n",
        "  \n",
        "## Logical operators\n",
        "\n",
        "We will find that it is often useful to know if a particular set of circumstances is true at a particular point in the course of running our computer program.  For example, maybe we would want to run a particular set of calculations in one scenario but a different set of calculations in another scenario.  _Logical_ operators are operators that work only on _Boolean_ variables-- i.e. variables that take on special values, `True` (or 1) and `False` (or 0).  Logical operators always yield either `True` or `False`:\n",
        "  - `or`: `a or b` is `True` if _either_ `a` is `True` _or_ if `b` is `True`, and `False` otherwise.\n",
        "  - `and`: `a and b` is `True` if both `a` is `True` _and_ `b` is `True`, and is `False` otherwise.\n",
        "  - `not`: `not a` is `True` if `a` is `False`, and is `False` if `a` is `True`.\n",
        "  \n",
        "## Equality operator\n",
        "Sometimes we want to know whether a particular variable has a specific value.  To do this, we use the _equality operator_, `==`:\n",
        "  - `a == b` is `True` if `a` has the same value as `b`, and is `False` otherwise."
      ]
    },
    {
      "cell_type": "markdown",
      "metadata": {
        "id": "jrT2EdLu6DAQ"
      },
      "source": [
        "# Comments and `print` statements\n",
        "Sometimes it's useful to write little notes to yourself (and other people who might want to read your code) to keep track of what the different parts of your code do.  There are two ways to add notes to your code:\n",
        "- You can create an \"inline comment\" by adding a '#' followed by the text of your comment.  \n",
        "- You can create a \"block comment\" by adding a set of triple quotes, followed by one or more lines of text, and then followed by a second set of of triple quotes.  You can use single quotes (') or double quotes (\") to denote a block comment, as long as you start and end your block comment with the same type of quote.\n",
        "\n",
        "The Python interpreter (i.e. the computing engine that turns your computer code into executed instructions) ignores all comments when it is running your code.\n",
        "\n",
        "You can also tell the interpreter to print out the value of something by using the `print` function, as illustrated below."
      ]
    },
    {
      "cell_type": "code",
      "execution_count": null,
      "metadata": {
        "id": "gfg_oCdv6DAQ",
        "outputId": "a1ac1e5b-2dc2-47a6-eec3-ec7d4d1011f1"
      },
      "outputs": [
        {
          "name": "stdout",
          "output_type": "stream",
          "text": [
            "113.09733552924\n",
            "201.06192982976\n"
          ]
        }
      ],
      "source": [
        "pi = 3.14159265359 #ratio of a circle's circumference to its diameter\n",
        "\n",
        "r1 = 6 #radius of circle 1\n",
        "r2 = 8 #radius of circle 2\n",
        "\n",
        "area1 = pi * r1 ** 2 #the ** operator means \"raise the value on the left to the power of the value of the thing on the right\".  Notice how order of operations comes into effect.\n",
        "area2 = pi * r2 ** 2\n",
        "\n",
        "print(area1)\n",
        "print(area2)"
      ]
    },
    {
      "cell_type": "markdown",
      "metadata": {
        "id": "iEHrHDXY6DAQ"
      },
      "source": [
        "# `if` statements\n",
        "\n",
        "Python contains a number of _keywords_ that allow you to control the flow of instructions that the computer executes.  One of the main keywords is the `if` statement.  It runs one or more lines of code only _if_ the quantity being evaluated is `True`:"
      ]
    },
    {
      "cell_type": "code",
      "execution_count": null,
      "metadata": {
        "id": "nh26_Ezq6DAQ"
      },
      "outputs": [],
      "source": [
        "x = 3\n",
        "if x == 3: #notice the colon\n",
        "    print('Run this line') #all lines in the body of the if statement are indented"
      ]
    },
    {
      "cell_type": "markdown",
      "metadata": {
        "id": "9K7Q2gme6DAR"
      },
      "source": [
        "# `elif` and `else` statements\n",
        "Whereas the body (indented part) of an `if` statement will simply be skipped if the evaluated function passed to an `if` statement is `False`, you can also specify what to do under other possible circumstances:\n",
        "  - The `elif` statement comes right after an `if` statement.  It allows you to specify an alternative set of conditions.  You can use multiple `elif` statements in sequence; once any of them evaluate to `True` the body of that statement is run and the sequence is aborted (no other `elif` statements are tested).\n",
        "  - The `else` keyword comes after an `if` statement and (optionally) one or more `elif` statments.  The body of an `else` statement runs only if none of the preceeding `if` or `elif` statements ran."
      ]
    },
    {
      "cell_type": "code",
      "execution_count": null,
      "metadata": {
        "id": "742clZ_V6DAR",
        "outputId": "2244f592-fc72-4923-9e1c-e7801c76459e"
      },
      "outputs": [
        {
          "name": "stdout",
          "output_type": "stream",
          "text": [
            "You are the course instructor.\n"
          ]
        }
      ],
      "source": [
        "my_name = 'Jeremy Manning'\n",
        "if my_name == 'Jeremy Manning':\n",
        "    print('You are the course instructor.')\n",
        "elif my_name == 'Phil Hanlon':\n",
        "    print('You are the current President of Dartmouth College.')\n",
        "elif my_name == 'Marie Curie':\n",
        "    print('You won two Nobel Prizes.  Also, you are dead.')\n",
        "else:\n",
        "    print('I don\\'t know you-- nice to meet you!') #note the \"escape character\" before the single quote"
      ]
    },
    {
      "cell_type": "markdown",
      "metadata": {
        "id": "toac02XS6DAR"
      },
      "source": [
        "# Data types\n",
        "The computational elements that Python \"computes with\" can take on different types of values, called _data types_.  You've gotten to see a few different data types in above examples; here are some of the data types you'll likely encounter frequently:\n",
        "  - **Integers** (`int`): non-decimal scalar values (e.g., `-50`, `326`, `0`, `2500`, etc.)\n",
        "  - **Floating points numbers** (`float`): Real-valued scalars (e.g., `1.2345`, `-10.923`, `0.01`, `2.0`, etc.).\n",
        "  - **Boolean** (`bool`): `True` or `False`.\n",
        "  - **Strings** (`str`): sequences of characters or symbols, enclosed in single or double quotes (e.g., `'hello'`, `'This is a single quoted string!'`, `\"This is a double quoted string...\"`, etc.).\n",
        "  - **Lists** (`list`): an ordered set of objects (each element of the set can be of any data type, including a list!).  Example; `['apple', 7, '3', [6, 'twenty five', -65.4321], 7]`\n",
        "  - **Dictionary** (`dict`): an unordered set of named properties that each has an assigned value (each value can be of any data type, including a Dictionary!).  Example: `{'name': 'Storytelling with Data', 'number': 81.09, 'department': 'PSYC', 'url: 'https://github.com/ContextLab/storytelling-with-data'}`.\n",
        "  - **Null value** (`None`): a special data type that doesn't have any specified value.  Useful as a \"default\" value, e.g. before you have enough information to compute the answer.\n",
        "\n",
        "## Typecasting\n",
        "Many datatypes may be converted to many other datatype using typecasting.  For example, `float(3)` converts the integer `3` into a floating point decimal.  In the next cell, explore what happens when you try to convert between different data types.  You can use the `type` function to ask Python what the data type of a given entity is."
      ]
    },
    {
      "cell_type": "code",
      "execution_count": null,
      "metadata": {
        "id": "fLobnYsN6DAR",
        "outputId": "0f844896-6f87-4163-c581-995bd5de88d7"
      },
      "outputs": [
        {
          "name": "stdout",
          "output_type": "stream",
          "text": [
            "<class 'int'>\n"
          ]
        },
        {
          "data": {
            "text/plain": [
              "['3', '.', '0']"
            ]
          },
          "execution_count": 33,
          "metadata": {},
          "output_type": "execute_result"
        }
      ],
      "source": [
        "print(type(3))\n",
        "list(str(float(int(3.4)))) #what's happening here?"
      ]
    },
    {
      "cell_type": "markdown",
      "metadata": {
        "id": "duUdiPNR6DAR"
      },
      "source": [
        "# Functions\n",
        "\n",
        "We've already come across several functions, such as `print`, `type`, and various operators (e.g. `+`, `-`, `*`, `/`, `**`, etc.-- operators are a special type of function.).  A _function_ is a special data type that takes in zero or more _arguments_ (i.e. inputs) and produces zero or more actions or outputs.\n",
        "\n",
        "Sometimes a function is written so that its main purpose is to carry out some action, such as saving a file or generating a figure.  In other cases, the purpose of a function is to carry out some computation on the input arguments.  The syntax for defining a function is:\n",
        "```\n",
        "def <function_name>(arg1, arg2, ..., argN):\n",
        "  <instruction 1>\n",
        "  <instruction 2>\n",
        "  ...\n",
        "  <instruction M>\n",
        "  return <value>\n",
        "```\n",
        "\n",
        "Here the `def` command tells Python that we'll be defining a new function called `<function_name>`.  The function will take in a list of arguments (`arg1`, `arg2`, `arg3`, etc.), and carry out some operations.  Finally, the `return` command tells Python what the value of the function itself is, given the inputs that were passed to it.  If the `return` line is ommitted, then the function will evaluate to `None` by default.  The next cell contains an example function definition.\n",
        "\n",
        "Note that function definitions may be nested-- in other words, the instructions specified in the body of a function definition may themselves be function definitions!"
      ]
    },
    {
      "cell_type": "code",
      "execution_count": null,
      "metadata": {
        "id": "9R7GTU306DAR",
        "outputId": "16709ec4-1700-418e-d881-a5ab2d085ee4"
      },
      "outputs": [
        {
          "name": "stdout",
          "output_type": "stream",
          "text": [
            "1\n",
            "4\n",
            "9\n"
          ]
        }
      ],
      "source": [
        "def square(x):\n",
        "    return x**2\n",
        "\n",
        "print(square(1))\n",
        "print(square(2))\n",
        "print(square(3))"
      ]
    },
    {
      "cell_type": "markdown",
      "metadata": {
        "id": "gsI2Kw-t6DAR"
      },
      "source": [
        "# Loops\n",
        "It's often useful to carry out a similar operation many times.  For example, you might want to read in each file in a folder and apply the same basic set of commands to each file's contents.  _Loops_ provide a way of writing efficient and flexible code that involves doing an operation several times.\n",
        "\n",
        "There are two types of loops in Python: `for` loops and `while` loops.\n",
        "\n",
        "## `for` loops\n",
        "This type of loop carries out one or more operations on each element in a given list.  The syntax is:\n",
        "```\n",
        "for i in <list of items>:\n",
        "  <instruction 1>\n",
        "  <instruction 2>\n",
        "  ...\n",
        "  <instruction N>\n",
        "```\n",
        "where `i` is, in turn, set to the value of each element of the given list, and the instructions defined in the body of the loop are carried out.  (Here `i` is just an example variable name; in practice any variable name may be used as a stand-in for `i`.)  In other words, the instructions in a `for` loop are carried out _for_ each value in the given list.\n",
        "\n",
        "## `while` loops\n",
        "This type of loop carries out one or more operations _while_ the given logic statement holds true.  The syntax is:\n",
        "```\n",
        "while <statement>:\n",
        "  <instruction 1>\n",
        "  <instruction 2>\n",
        "  ...\n",
        "  <instruction N>\n",
        "```\n",
        "where `<statement>` (i.e. the _loop condition_) is any Python expression that can be typecast to a `bool`.  These types of loops are useful when the number of repetitions needed to carry out a particular task is not known in advance.\n",
        "\n",
        "### Infinite loops\n",
        "It is important that the statement used to determine whether the `while` loop continues with another execution or terminates is modified within the body of the loop.  In other words, the parameters of the condition that is being tested for should be adjusted each time the loop executes another cycle.  If the loop condition never changes its value from `True`, the `while` loop will continue looping forever; this is called an `infinite loop`.  Infinite loops will freeze your computer program until they are manually halted by pressing `ctrl + c`.\n",
        "\n",
        "### Nested loops\n",
        "Both `for` and `while` loops may themselves contain other loops (of either type).  For example, nested loops can be useful when you want to carry out some sequence of operations on each _combination_ of a set of things."
      ]
    },
    {
      "cell_type": "code",
      "execution_count": null,
      "metadata": {
        "id": "GC1cBBqK6DAR",
        "outputId": "5d9df7a9-a57f-4d9d-d0be-cf76195e3957"
      },
      "outputs": [
        {
          "name": "stdout",
          "output_type": "stream",
          "text": [
            "a\n",
            "b\n",
            "c\n",
            "d\n"
          ]
        }
      ],
      "source": [
        "for x in ['a', 'b', 'c', 'd']:\n",
        "    print(x)"
      ]
    },
    {
      "cell_type": "code",
      "execution_count": null,
      "metadata": {
        "id": "Sm97ND6K6DAR",
        "outputId": "0d73dd45-943c-4fda-f11d-81133acc13bc"
      },
      "outputs": [
        {
          "name": "stdout",
          "output_type": "stream",
          "text": [
            "9\n",
            "8\n",
            "7\n",
            "6\n",
            "5\n",
            "4\n",
            "3\n",
            "2\n",
            "1\n",
            "0\n"
          ]
        }
      ],
      "source": [
        "i = 10\n",
        "while i > 0:\n",
        "    i = i - 1\n",
        "    print(i)"
      ]
    },
    {
      "cell_type": "markdown",
      "metadata": {
        "id": "A51ByNZH6DAR"
      },
      "source": [
        "# Importing new functions\n",
        "\n",
        "Python comes with a set of built-in functions.  The `dir()` command lists the set of functions  currently available to you.\n",
        "\n",
        "You can import new functions that other people have written and made available to the community using an `import` statement.  Knowing which _libraries_ (sets of functions) to import requires some Googling or checking in with other users.  The syntax for importing a library is: `import <library name>`.  For example `import math` will import Python's Mathematics library, giving you access to new Math-related functions.\n",
        "\n",
        "# The `from` keyword\n",
        "Sometimes it is useful to import only a subset of the total available functions from a library.  For example, a particular function in a library may have the same name as a function that you want to write yourself.  The `from` keyword allows you to select a specific set of functions from a given library using:\n",
        "```\n",
        "from <library name> import <function1>, <function2>, ..., <functionN>\n",
        "```\n",
        "\n",
        "You can also use the `dir` command on an imported library to determine which functions are available to import from that library.\n",
        "\n",
        "# The `as` keyword\n",
        "Sometimes it is convenient to rename an imported library or function.  For example, the library might have a long name that is cumbersome to type.  The `as` keyword can be used to rename libraries, functions, or both.  For example:\n",
        "```\n",
        "import math as m\n",
        "from math import degrees as deg\n",
        "```"
      ]
    },
    {
      "cell_type": "code",
      "execution_count": null,
      "metadata": {
        "id": "dfEshBaM6DAR",
        "outputId": "40b49854-c3de-4f1c-d16a-89062b748fa4"
      },
      "outputs": [
        {
          "data": {
            "text/plain": [
              "1.0000000000000002"
            ]
          },
          "execution_count": 43,
          "metadata": {},
          "output_type": "execute_result"
        }
      ],
      "source": [
        "import math as m\n",
        "from math import degrees as deg\n",
        "\n",
        "m.sin(m.pi) - m.cos(m.pi)"
      ]
    },
    {
      "cell_type": "markdown",
      "metadata": {
        "id": "OS8fKwhy6DAR"
      },
      "source": [
        "# Getting help\n",
        "The `help` function may be called for any built-in (or imported) Python function.  This will display a pop-up message with instructions describing how to use the given function.  For example:"
      ]
    },
    {
      "cell_type": "code",
      "execution_count": null,
      "metadata": {
        "id": "w1DfgsoX6DAR",
        "outputId": "d5cc815f-7062-46aa-82fa-cbd446d42462"
      },
      "outputs": [
        {
          "name": "stdout",
          "output_type": "stream",
          "text": [
            "Help on built-in function sin in module math:\n",
            "\n",
            "sin(...)\n",
            "    sin(x)\n",
            "    \n",
            "    Return the sine of x (measured in radians).\n",
            "\n"
          ]
        }
      ],
      "source": [
        "help(m.sin)"
      ]
    },
    {
      "cell_type": "markdown",
      "metadata": {
        "id": "HZK7rU6H6DAR"
      },
      "source": [
        "When you try to perform an invalid operation (e.g. using incorrect syntax, or using the wrong data type, etc.) your program will crash and print out an error message.  These error messages can help point you to where the problem in your code was."
      ]
    },
    {
      "cell_type": "code",
      "execution_count": null,
      "metadata": {
        "id": "zD2lSwlZ6DAR",
        "outputId": "3c07b843-116e-476f-a0a5-1b08fc1aec2d"
      },
      "outputs": [
        {
          "ename": "TypeError",
          "evalue": "unsupported operand type(s) for +: 'int' and 'str'",
          "output_type": "error",
          "traceback": [
            "\u001b[0;31m---------------------------------------------------------------------------\u001b[0m",
            "\u001b[0;31mTypeError\u001b[0m                                 Traceback (most recent call last)",
            "\u001b[0;32m<ipython-input-49-c9912827b505>\u001b[0m in \u001b[0;36m<module>\u001b[0;34m\u001b[0m\n\u001b[0;32m----> 1\u001b[0;31m \u001b[0;36m1\u001b[0m \u001b[0;34m+\u001b[0m \u001b[0;34m'test'\u001b[0m \u001b[0;31m#trying to add two data types for which the addition operation isn't supported\u001b[0m\u001b[0;34m\u001b[0m\u001b[0;34m\u001b[0m\u001b[0m\n\u001b[0m",
            "\u001b[0;31mTypeError\u001b[0m: unsupported operand type(s) for +: 'int' and 'str'"
          ]
        }
      ],
      "source": [
        "1 + 'test' #trying to add two data types for which the addition operation isn't supported"
      ]
    },
    {
      "cell_type": "markdown",
      "metadata": {
        "id": "MqfSEono6DAR"
      },
      "source": [
        "Although they are very useful, in practice the built-in help function and error messages are often insufficient for solving tricky problems.  Some great places to get help are:\n",
        "  - **Python tutorials**: if you feel you require an in-depth understanding to solve your problem, there are many free tutorials available on a wide array of topics.  [This one](https://gitlab.erc.monash.edu.au/andrease/Python4Maths/tree/master/Intro-to-Python) is a good place to start for basic questions.\n",
        "  - **Google**: if you are trying to figure out an unfamiliar function, or if you encounter an error message that doesn't make sense, try searching for someone else's solution.\n",
        "  - **Slack**: if you're stuck on something, or curious why your code is behaving in a particular way, post your question to Slack and someone from the class will answer in a timely manner.\n",
        "  - **Office hours**: come to my regular office hours, or email me to set up an appointment, and I'll help get you unstuck."
      ]
    },
    {
      "cell_type": "markdown",
      "metadata": {
        "id": "p4ScBUkd6DAR"
      },
      "source": [
        "# Happy coding!\n",
        "\n",
        "Programming is one of the most rewarding skills you can pick up.  The modern world runs on computers, and learning to code well will provide you with an enormous advantage in a wide range of life venues.  Have fun learning, don't be afraid to make mistakes, and learn to ask for help when you need it!"
      ]
    }
  ],
  "metadata": {
    "kernelspec": {
      "display_name": "Psych 81.09",
      "language": "python",
      "name": "psych81.09"
    },
    "language_info": {
      "codemirror_mode": {
        "name": "ipython",
        "version": 3
      },
      "file_extension": ".py",
      "mimetype": "text/x-python",
      "name": "python",
      "nbconvert_exporter": "python",
      "pygments_lexer": "ipython3",
      "version": "3.6.8"
    },
    "colab": {
      "provenance": [],
      "include_colab_link": true
    }
  },
  "nbformat": 4,
  "nbformat_minor": 0
}