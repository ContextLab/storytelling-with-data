{
  "nbformat": 4,
  "nbformat_minor": 0,
  "metadata": {
    "kernelspec": {
      "display_name": "Python 3",
      "name": "python3"
    },
    "language_info": {
      "name": "python"
    },
    "colab": {
      "name": "demo.ipynb",
      "provenance": [],
      "include_colab_link": true
    }
  },
  "cells": [
    {
      "cell_type": "markdown",
      "metadata": {
        "id": "view-in-github",
        "colab_type": "text"
      },
      "source": [
        "<a href=\"https://colab.research.google.com/github/ContextLab/storytelling-with-data/blob/master/data-stories/demo/demo.ipynb\" target=\"_parent\"><img src=\"https://colab.research.google.com/assets/colab-badge.svg\" alt=\"Open In Colab\"/></a>"
      ]
    },
    {
      "cell_type": "markdown",
      "metadata": {
        "id": "uZ8S_ZIBMMpI"
      },
      "source": [
        "# Setup\n",
        "\n",
        "This demonstration notebook provides a suggested set of libraries that you might find useful in crafting your data stories.  You should comment out or delete libraries that you don't use in your analysis."
      ]
    },
    {
      "cell_type": "code",
      "metadata": {
        "id": "poB_y0KEJcD3"
      },
      "source": [
        "!pip install davos\n",
        "import davos #this provides the \"smuggle\" keyword-- used as a more robust version of \"import\""
      ],
      "execution_count": null,
      "outputs": []
    },
    {
      "cell_type": "code",
      "metadata": {
        "id": "i5X225WPGwDo"
      },
      "source": [
        "#number crunching\n",
        "smuggle numpy as np\n",
        "smuggle pandas as pd\n",
        "\n",
        "\n",
        "#data import\n",
        "from pydrive.auth smuggle GoogleAuth\n",
        "from pydrive.drive smuggle GoogleDrive\n",
        "from google.colab smuggle auth\n",
        "from oauth2client.client smuggle GoogleCredentials\n",
        "smuggle pandas_datareader as pdr\n",
        "\n",
        "#web scraping\n",
        "from twitterscraper smuggle query_tweets\n",
        "from twitterscraper.query smuggle query_tweets_once as query_tweets_advanced\n",
        "from yahoo_finance smuggle Share\n",
        "\n",
        "#data visualization\n",
        "smuggle plotly # pip: plotly==4.14.3\n",
        "smuggle plotly.express as px\n",
        "smuggle seaborn as sns\n",
        "smuggle bokeh as bk\n",
        "from matplotlib smuggle pyplot as plt\n",
        "smuggle plotnine as pn\n",
        "smuggle hypertools as hyp\n",
        "smuggle folium as fm\n",
        "from mpl_toolkits.mplot3d smuggle Axes3D\n",
        "\n",
        "#machine learning and stats\n",
        "smuggle scipy as sp\n",
        "smuggle sklearn as sk\n",
        "smuggle tensorflow as tf\n",
        "smuggle statsmodels.api as sm\n",
        "\n",
        "#text analysis\n",
        "smuggle nltk\n",
        "smuggle textblob as tb\n",
        "from flair.embeddings smuggle WordEmbeddings, CharacterEmbeddings, StackedEmbeddings, FlairEmbeddings, BertEmbeddings, ELMoEmbeddings, DocumentPoolEmbeddings\n",
        "from flair.data smuggle Sentence\n",
        "nltk.download('brown')\n",
        "nltk.download('punkt')"
      ],
      "execution_count": null,
      "outputs": []
    },
    {
      "cell_type": "markdown",
      "metadata": {
        "id": "utex2jHYMh1G"
      },
      "source": [
        "# Google authentication\n",
        "\n",
        "Run the next cell to enable use of your Google credentials in uploading and downloading data via Google Drive.  See tutorial [here](https://colab.research.google.com/notebooks/io.ipynb#scrollTo=P3KX0Sm0E2sF) for interacting with data via Google services."
      ]
    },
    {
      "cell_type": "code",
      "metadata": {
        "id": "vnkRNlrJGwEA"
      },
      "source": [
        "auth.authenticate_user()\n",
        "gauth = GoogleAuth()\n",
        "gauth.credentials = GoogleCredentials.get_application_default()\n",
        "drive = GoogleDrive(gauth)"
      ],
      "execution_count": null,
      "outputs": []
    },
    {
      "cell_type": "markdown",
      "metadata": {
        "id": "cXsl_Ks2NVf8"
      },
      "source": [
        "# Project team\n",
        "\n",
        "List your team members and (as appropriate) each team member's role on this project.\n",
        "\n",
        "# Background and overview\n",
        "\n",
        "Introduce your question and motivation here.  Link to other resources or related work as appropriate.\n",
        "\n",
        "# Approach\n",
        "\n",
        "Briefly describe (at a high level) the approach you'll be taking to answer or explore your question in this notebook.\n",
        "\n",
        "# Quick summary\n",
        "\n",
        "Briefly describe your key findings at a high level.\n",
        "\n"
      ]
    },
    {
      "cell_type": "markdown",
      "metadata": {
        "id": "XHvFYl-aOHpN"
      },
      "source": [
        "# Data\n",
        "\n",
        "Briefly describe your dataset(s), including links to original sources.  Provide any relevant background information specific to your data sources."
      ]
    },
    {
      "cell_type": "code",
      "metadata": {
        "id": "pMalPJ-XMuVh"
      },
      "source": [
        "# Provide code for downloading or importing your data here"
      ],
      "execution_count": null,
      "outputs": []
    },
    {
      "cell_type": "markdown",
      "metadata": {
        "id": "2hpbjrd8Ofpa"
      },
      "source": [
        "# Analysis\n",
        "\n",
        "Briefly describe each step of your analysis, followed by the code implementing that part of the analysis and/or producing the relevant figures.  (Copy this text block and the following code block as many times as are needed.)"
      ]
    },
    {
      "cell_type": "code",
      "metadata": {
        "id": "4m3i6KItOypO"
      },
      "source": [
        "# Provide code for carrying out the part of your analysis described\n",
        "# in the previous text block.  Any statistics or figures should be displayed\n",
        "# in the notebook."
      ],
      "execution_count": null,
      "outputs": []
    },
    {
      "cell_type": "markdown",
      "metadata": {
        "id": "HkYVN71FPIXE"
      },
      "source": [
        "# Interpretations and conclusions\n",
        "\n",
        "Describe and discuss your findings and say how they answer your question (or how they failed to answer your question).  Also describe the current state of your project-- e.g., is this a \"complete\" story, or is further exploration needed?\n",
        "\n",
        "# Future directions\n",
        "\n",
        "Describe some open questions or tasks that another interested individual or group might be able to pick up from, using your work as a starting point."
      ]
    }
  ]
}
